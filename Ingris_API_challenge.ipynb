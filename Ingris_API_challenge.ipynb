{
 "cells": [
  {
   "cell_type": "markdown",
   "metadata": {},
   "source": [
    "# WeatherPy\n",
    "----\n",
    "\n",
    "#### Note\n",
    "* Instructions have been included for each segment. You do not have to follow them exactly, but they are included to help you think through the steps."
   ]
  },
  {
   "cell_type": "code",
   "execution_count": 1,
   "metadata": {
    "scrolled": true
   },
   "outputs": [],
   "source": [
    "# Dependencies and Setup\n",
    "import matplotlib.pyplot as plt\n",
    "import pandas as pd\n",
    "import numpy as np\n",
    "import requests\n",
    "import time\n",
    "from datetime import date\n",
    "\n",
    "# Import API key\n",
    "from api_keys import api_key\n",
    "\n",
    "# Incorporated citipy to determine city based on latitude and longitude\n",
    "from citipy import citipy\n",
    "\n",
    "# Output File (CSV)\n",
    "output_data_file = \"output_data/cities.csv\"\n",
    "\n",
    "# Range of latitudes and longitudes\n",
    "lat_range = (-90, 90)\n",
    "lng_range = (-180, 180)"
   ]
  },
  {
   "cell_type": "markdown",
   "metadata": {},
   "source": [
    "## Generate Cities List"
   ]
  },
  {
   "cell_type": "code",
   "execution_count": 14,
   "metadata": {},
   "outputs": [
    {
     "data": {
      "text/plain": [
       "110"
      ]
     },
     "execution_count": 14,
     "metadata": {},
     "output_type": "execute_result"
    }
   ],
   "source": [
    "# List for holding lat_lngs and cities\n",
    "lat_lngs = []\n",
    "cities = []\n",
    "\n",
    "# Create a set of random lat and lng combinations\n",
    "lats = np.random.uniform(low=-90.000, high=90.000, size=150)\n",
    "lngs = np.random.uniform(low=-180.000, high=180.000, size=150)\n",
    "lat_lngs = zip(lats, lngs)\n",
    "\n",
    "# Identify nearest city for each lat, lng combination\n",
    "for lat_lng in lat_lngs:\n",
    "    city = citipy.nearest_city(lat_lng[0], lat_lng[1]).city_name\n",
    "    \n",
    "    # If the city is unique, then add it to a our cities list\n",
    "    if city not in cities:\n",
    "        cities.append(city)\n",
    "\n",
    "# Print the city count to confirm sufficient count\n",
    "len(cities)\n"
   ]
  },
  {
   "cell_type": "code",
   "execution_count": 15,
   "metadata": {
    "scrolled": true
   },
   "outputs": [],
   "source": [
    "# Save config information.\n",
    "url = \"http://api.openweathermap.org/data/2.5/weather?\"\n",
    "city = 'salalah'\n",
    "units = \"imperial\"\n",
    "\n",
    "# Build query URL\n",
    "query_url = f\"{url}appid={api_key}&units={units}&q={city}\" \n",
    "query_url\n",
    "\n",
    "temp=[]\n",
    "city=[]\n",
    "\n",
    "\n",
    "# Get weather data\n",
    "weather_response = requests.get(query_url)\n",
    "weather_json = weather_response.json()\n",
    "temp.append(weather_json[\"main\"][\"temp\"])\n",
    "city.append(weather_json[\"name\"])\n"
   ]
  },
  {
   "cell_type": "markdown",
   "metadata": {},
   "source": [
    "# Perform API Calls\n",
    "* Perform a weather check on each city using a series of successive API calls.\n",
    "* Include a print log of each city as it'sbeing processed (with the city number and city name).\n"
   ]
  },
  {
   "cell_type": "code",
   "execution_count": 18,
   "metadata": {},
   "outputs": [
    {
     "name": "stdout",
     "output_type": "stream",
     "text": [
      "Beginning Data Retrieval\n",
      "-----------------------------\n",
      "Processing Record 0 of Set 1|abu zabad\n",
      "Processing Record 1 of Set 1|busselton\n",
      "Processing Record 2 of Set 1|punta arenas\n",
      "Processing Record 3 of Set 1|high rock\n",
      "Processing Record 4 of Set 1|vaini\n",
      "Processing Record 5 of Set 1|rikitea\n",
      "Processing Record 6 of Set 1|san patricio\n",
      "Processing Record 7 of Set 1|provideniya\n",
      "Processing Record 8 of Set 1|martapura\n",
      "Processing Record 9 of Set 1|ventsy\n",
      "Processing Record 10 of Set 1|saint-avold\n",
      "Processing Record 11 of Set 1|namwala\n",
      "Processing Record 12 of Set 1|bluff\n",
      "Processing Record 13 of Set 1|saint-philippe\n",
      "Processing Record 14 of Set 1|namatanai\n",
      "Processing Record 15 of Set 1|eyl\n",
      "Processing Record 16 of Set 1|naze\n",
      "Processing Record 17 of Set 1|tasiilaq\n",
      "Processing Record 18 of Set 1|hilo\n",
      "Processing Record 19 of Set 1|albany\n",
      "Processing Record 20 of Set 1|ribeira grande\n",
      "Processing Record 21 of Set 1|geraldton\n",
      "Processing Record 22 of Set 1|khatanga\n",
      "Processing Record 23 of Set 1|mataura\n",
      "Processing Record 24 of Set 1|norman wells\n",
      "Processing Record 25 of Set 1|cape town\n",
      "Processing Record 26 of Set 1|hermanus\n",
      "Processing Record 27 of Set 1|avarua\n",
      "Processing Record 28 of Set 1|jamestown\n",
      "Processing Record 29 of Set 1|tuktoyaktuk\n",
      "Processing Record 30 of Set 1|petropavlovsk-kamchatskiy\n",
      "Processing Record 31 of Set 1|bambous virieux\n",
      "Processing Record 32 of Set 1|berlevag\n",
      "Processing Record 33 of Set 1|georgetown\n",
      "Processing Record 34 of Set 1|lisala\n",
      "Processing Record 35 of Set 1|atar\n",
      "Processing Record 36 of Set 1|cabo san lucas\n",
      "Processing Record 37 of Set 1|upernavik\n",
      "Processing Record 38 of Set 1|vanimo\n",
      "Processing Record 39 of Set 1|grand river south east\n",
      "City not found....... Skipping...........grand river south east\n",
      "Processing Record 40 of Set 1|celestun\n",
      "Processing Record 41 of Set 1|coihaique\n",
      "Processing Record 42 of Set 1|riverton\n",
      "Processing Record 43 of Set 1|acapulco\n",
      "Processing Record 44 of Set 1|las vegas\n",
      "Processing Record 45 of Set 1|maniitsoq\n",
      "Processing Record 46 of Set 1|camara de lobos\n",
      "Processing Record 47 of Set 1|attawapiskat\n",
      "City not found....... Skipping...........attawapiskat\n",
      "Processing Record 48 of Set 1|lerwick\n",
      "Processing Record 49 of Set 1|ancud\n",
      "Processing Record 50 of Set 1|comodoro rivadavia\n",
      "Processing Record 51 of Set 1|mahebourg\n",
      "Processing Record 52 of Set 1|ondorhaan\n",
      "City not found....... Skipping...........ondorhaan\n",
      "Processing Record 53 of Set 1|atuona\n",
      "Processing Record 54 of Set 1|tarakan\n",
      "Processing Record 55 of Set 1|grenaa\n",
      "Processing Record 56 of Set 1|mangalia\n",
      "Processing Record 57 of Set 1|xining\n",
      "Processing Record 58 of Set 1|longyearbyen\n",
      "Processing Record 59 of Set 1|chabahar\n",
      "Processing Record 60 of Set 1|bethel\n",
      "Processing Record 61 of Set 1|hobart\n",
      "Processing Record 62 of Set 1|mys shmidta\n",
      "City not found....... Skipping...........mys shmidta\n",
      "Processing Record 63 of Set 1|ushuaia\n",
      "Processing Record 64 of Set 1|bolungarvik\n",
      "City not found....... Skipping...........bolungarvik\n",
      "Processing Record 65 of Set 1|beloha\n",
      "Processing Record 66 of Set 1|ambon\n",
      "Processing Record 67 of Set 1|arraial do cabo\n",
      "Processing Record 68 of Set 1|qabis\n",
      "City not found....... Skipping...........qabis\n",
      "Processing Record 69 of Set 1|karamea\n",
      "City not found....... Skipping...........karamea\n",
      "Processing Record 70 of Set 1|chapais\n",
      "Processing Record 71 of Set 1|thompson\n",
      "Processing Record 72 of Set 1|codajas\n",
      "Processing Record 73 of Set 1|barrow\n",
      "Processing Record 74 of Set 1|wulanhaote\n",
      "City not found....... Skipping...........wulanhaote\n",
      "Processing Record 75 of Set 1|sfantu gheorghe\n",
      "Processing Record 76 of Set 1|codrington\n",
      "Processing Record 77 of Set 1|new norfolk\n",
      "Processing Record 78 of Set 1|port blair\n",
      "Processing Record 79 of Set 1|oriximina\n",
      "Processing Record 80 of Set 1|cachira\n",
      "Processing Record 81 of Set 1|ust-donetskiy\n",
      "Processing Record 82 of Set 1|butaritari\n",
      "Processing Record 83 of Set 1|ushtobe\n",
      "Processing Record 84 of Set 1|yellowknife\n",
      "Processing Record 85 of Set 1|san cristobal\n",
      "Processing Record 86 of Set 1|iqaluit\n",
      "Processing Record 87 of Set 1|anadyr\n",
      "Processing Record 88 of Set 1|san luis\n",
      "Processing Record 89 of Set 1|uniao\n",
      "City not found....... Skipping...........uniao\n",
      "Processing Record 90 of Set 1|batagay\n",
      "Processing Record 91 of Set 1|qaanaaq\n",
      "Processing Record 92 of Set 1|sentyabrskiy\n",
      "City not found....... Skipping...........sentyabrskiy\n",
      "Processing Record 93 of Set 1|natal\n",
      "Processing Record 94 of Set 1|kuching\n",
      "Processing Record 95 of Set 1|praya\n",
      "Processing Record 96 of Set 1|marcona\n",
      "City not found....... Skipping...........marcona\n",
      "Processing Record 97 of Set 1|manalurpet\n",
      "City not found....... Skipping...........manalurpet\n",
      "Processing Record 98 of Set 1|persianovskiy\n",
      "Processing Record 99 of Set 1|burica\n",
      "City not found....... Skipping...........burica\n",
      "Processing Record 100 of Set 1|kaitangata\n",
      "Processing Record 101 of Set 1|mapiripan\n",
      "Processing Record 102 of Set 1|leningradskiy\n",
      "Processing Record 103 of Set 1|kashi\n",
      "City not found....... Skipping...........kashi\n",
      "Processing Record 104 of Set 1|lowestoft\n",
      "Processing Record 105 of Set 1|pevek\n",
      "Processing Record 106 of Set 1|nikolskoye\n",
      "Processing Record 107 of Set 1|kapaa\n",
      "Processing Record 108 of Set 1|bani\n",
      "Processing Record 109 of Set 1|verkh-usugli\n",
      "-----------------------------\n",
      "Data Retrieval Complete\n",
      "-----------------------------\n"
     ]
    }
   ],
   "source": [
    "# Save config information.\n",
    "url = \"http://api.openweathermap.org/data/2.5/weather?\"\n",
    "units = \"imperial\"\n",
    "\n",
    "temp=[]\n",
    "city=[]\n",
    "cloudiness=[]\n",
    "country=[]\n",
    "date=[]\n",
    "humidity=[]\n",
    "lat=[]\n",
    "lng=[]\n",
    "maxtemp=[]\n",
    "windspeed=[]\n",
    "counter =0\n",
    "\n",
    "print('Beginning Data Retrieval\\n-----------------------------')\n",
    "for i in range(len(cities)):\n",
    "    counter = counter +1\n",
    "    try:\n",
    "        print(f\"Processing Record {i} of Set 1|{cities[i]}\")\n",
    "    \n",
    "        # Build query URL\n",
    "        query_url = f\"{url}appid={api_key}&units={units}&q={cities[i]}\" \n",
    "\n",
    "        # Get weather data and convert to json file\n",
    "        weather_response = requests.get(query_url)\n",
    "        weather_json = weather_response.json()\n",
    "    \n",
    "        #appeding to list of city and temp\n",
    "        temp.append(weather_json[\"main\"][\"temp\"])\n",
    "        city.append(weather_json[\"name\"])\n",
    "        cloudiness.append(weather_json[\"clouds\"][\"all\"])\n",
    "        country.append(weather_json[\"sys\"][\"country\"])\n",
    "        date.append(weather_json[\"dt\"])\n",
    "        humidity.append(weather_json[\"main\"][\"humidity\"])\n",
    "        lat.append(weather_json[\"coord\"][\"lat\"])\n",
    "        lng.append(weather_json[\"coord\"][\"lon\"])\n",
    "        maxtemp.append(weather_json[\"main\"][\"temp_max\"])\n",
    "        windspeed.append(weather_json[\"wind\"][\"speed\"])\n",
    "        \n",
    "        \n",
    "    except(KeyError, IndexError):\n",
    "         print(f\"City not found....... Skipping...........{cities[i]}\")\n",
    "    if counter == 100:\n",
    "        time.sleep(60)\n",
    "        counter = 0\n",
    "\n",
    "print(\"-----------------------------\\nData Retrieval Complete\\n-----------------------------\")   "
   ]
  },
  {
   "cell_type": "markdown",
   "metadata": {},
   "source": [
    "# Convert Raw Data to DataFrame\n",
    "\n",
    "Export the city data into a .csv.\n",
    "Display the DataFrame"
   ]
  },
  {
   "cell_type": "code",
   "execution_count": 19,
   "metadata": {},
   "outputs": [
    {
     "data": {
      "text/html": [
       "<div>\n",
       "<style scoped>\n",
       "    .dataframe tbody tr th:only-of-type {\n",
       "        vertical-align: middle;\n",
       "    }\n",
       "\n",
       "    .dataframe tbody tr th {\n",
       "        vertical-align: top;\n",
       "    }\n",
       "\n",
       "    .dataframe thead th {\n",
       "        text-align: right;\n",
       "    }\n",
       "</style>\n",
       "<table border=\"1\" class=\"dataframe\">\n",
       "  <thead>\n",
       "    <tr style=\"text-align: right;\">\n",
       "      <th></th>\n",
       "      <th>City Name</th>\n",
       "      <th>Temp</th>\n",
       "      <th>Cloudiness</th>\n",
       "      <th>Country</th>\n",
       "      <th>Date</th>\n",
       "      <th>Humidity</th>\n",
       "      <th>Latitud</th>\n",
       "      <th>Longitud</th>\n",
       "      <th>Max Temp</th>\n",
       "      <th>Wind Speed</th>\n",
       "    </tr>\n",
       "  </thead>\n",
       "  <tbody>\n",
       "    <tr>\n",
       "      <td>0</td>\n",
       "      <td>Abu Zabad</td>\n",
       "      <td>77.86</td>\n",
       "      <td>29</td>\n",
       "      <td>SD</td>\n",
       "      <td>1571093380</td>\n",
       "      <td>72</td>\n",
       "      <td>12.35</td>\n",
       "      <td>29.25</td>\n",
       "      <td>77.86</td>\n",
       "      <td>1.39</td>\n",
       "    </tr>\n",
       "    <tr>\n",
       "      <td>1</td>\n",
       "      <td>Busselton</td>\n",
       "      <td>44.01</td>\n",
       "      <td>21</td>\n",
       "      <td>AU</td>\n",
       "      <td>1571093306</td>\n",
       "      <td>64</td>\n",
       "      <td>-33.64</td>\n",
       "      <td>115.35</td>\n",
       "      <td>44.01</td>\n",
       "      <td>10.85</td>\n",
       "    </tr>\n",
       "    <tr>\n",
       "      <td>2</td>\n",
       "      <td>Punta Arenas</td>\n",
       "      <td>46.20</td>\n",
       "      <td>20</td>\n",
       "      <td>CL</td>\n",
       "      <td>1571093310</td>\n",
       "      <td>70</td>\n",
       "      <td>-53.16</td>\n",
       "      <td>-70.91</td>\n",
       "      <td>46.40</td>\n",
       "      <td>4.70</td>\n",
       "    </tr>\n",
       "    <tr>\n",
       "      <td>3</td>\n",
       "      <td>High Rock</td>\n",
       "      <td>79.00</td>\n",
       "      <td>60</td>\n",
       "      <td>BS</td>\n",
       "      <td>1571093381</td>\n",
       "      <td>71</td>\n",
       "      <td>26.63</td>\n",
       "      <td>-78.28</td>\n",
       "      <td>79.00</td>\n",
       "      <td>10.24</td>\n",
       "    </tr>\n",
       "    <tr>\n",
       "      <td>4</td>\n",
       "      <td>Vaini</td>\n",
       "      <td>70.36</td>\n",
       "      <td>71</td>\n",
       "      <td>IN</td>\n",
       "      <td>1571093381</td>\n",
       "      <td>95</td>\n",
       "      <td>15.34</td>\n",
       "      <td>74.49</td>\n",
       "      <td>70.36</td>\n",
       "      <td>8.22</td>\n",
       "    </tr>\n",
       "    <tr>\n",
       "      <td>...</td>\n",
       "      <td>...</td>\n",
       "      <td>...</td>\n",
       "      <td>...</td>\n",
       "      <td>...</td>\n",
       "      <td>...</td>\n",
       "      <td>...</td>\n",
       "      <td>...</td>\n",
       "      <td>...</td>\n",
       "      <td>...</td>\n",
       "      <td>...</td>\n",
       "    </tr>\n",
       "    <tr>\n",
       "      <td>91</td>\n",
       "      <td>Pevek</td>\n",
       "      <td>31.91</td>\n",
       "      <td>100</td>\n",
       "      <td>RU</td>\n",
       "      <td>1571093470</td>\n",
       "      <td>69</td>\n",
       "      <td>69.70</td>\n",
       "      <td>170.27</td>\n",
       "      <td>31.91</td>\n",
       "      <td>6.66</td>\n",
       "    </tr>\n",
       "    <tr>\n",
       "      <td>92</td>\n",
       "      <td>Nikolskoye</td>\n",
       "      <td>40.48</td>\n",
       "      <td>90</td>\n",
       "      <td>RU</td>\n",
       "      <td>1571093300</td>\n",
       "      <td>86</td>\n",
       "      <td>59.70</td>\n",
       "      <td>30.79</td>\n",
       "      <td>41.00</td>\n",
       "      <td>6.71</td>\n",
       "    </tr>\n",
       "    <tr>\n",
       "      <td>93</td>\n",
       "      <td>Kapaa</td>\n",
       "      <td>83.84</td>\n",
       "      <td>75</td>\n",
       "      <td>US</td>\n",
       "      <td>1571093315</td>\n",
       "      <td>74</td>\n",
       "      <td>22.08</td>\n",
       "      <td>-159.32</td>\n",
       "      <td>86.00</td>\n",
       "      <td>12.75</td>\n",
       "    </tr>\n",
       "    <tr>\n",
       "      <td>94</td>\n",
       "      <td>Bani</td>\n",
       "      <td>85.93</td>\n",
       "      <td>62</td>\n",
       "      <td>YE</td>\n",
       "      <td>1571093471</td>\n",
       "      <td>67</td>\n",
       "      <td>16.02</td>\n",
       "      <td>42.93</td>\n",
       "      <td>85.93</td>\n",
       "      <td>1.88</td>\n",
       "    </tr>\n",
       "    <tr>\n",
       "      <td>95</td>\n",
       "      <td>Verkh-Usugli</td>\n",
       "      <td>31.32</td>\n",
       "      <td>93</td>\n",
       "      <td>RU</td>\n",
       "      <td>1571093471</td>\n",
       "      <td>68</td>\n",
       "      <td>52.70</td>\n",
       "      <td>115.17</td>\n",
       "      <td>31.32</td>\n",
       "      <td>2.53</td>\n",
       "    </tr>\n",
       "  </tbody>\n",
       "</table>\n",
       "<p>96 rows × 10 columns</p>\n",
       "</div>"
      ],
      "text/plain": [
       "       City Name   Temp  Cloudiness Country        Date  Humidity  Latitud  \\\n",
       "0      Abu Zabad  77.86          29      SD  1571093380        72    12.35   \n",
       "1      Busselton  44.01          21      AU  1571093306        64   -33.64   \n",
       "2   Punta Arenas  46.20          20      CL  1571093310        70   -53.16   \n",
       "3      High Rock  79.00          60      BS  1571093381        71    26.63   \n",
       "4          Vaini  70.36          71      IN  1571093381        95    15.34   \n",
       "..           ...    ...         ...     ...         ...       ...      ...   \n",
       "91         Pevek  31.91         100      RU  1571093470        69    69.70   \n",
       "92    Nikolskoye  40.48          90      RU  1571093300        86    59.70   \n",
       "93         Kapaa  83.84          75      US  1571093315        74    22.08   \n",
       "94          Bani  85.93          62      YE  1571093471        67    16.02   \n",
       "95  Verkh-Usugli  31.32          93      RU  1571093471        68    52.70   \n",
       "\n",
       "    Longitud  Max Temp  Wind Speed  \n",
       "0      29.25     77.86        1.39  \n",
       "1     115.35     44.01       10.85  \n",
       "2     -70.91     46.40        4.70  \n",
       "3     -78.28     79.00       10.24  \n",
       "4      74.49     70.36        8.22  \n",
       "..       ...       ...         ...  \n",
       "91    170.27     31.91        6.66  \n",
       "92     30.79     41.00        6.71  \n",
       "93   -159.32     86.00       12.75  \n",
       "94     42.93     85.93        1.88  \n",
       "95    115.17     31.32        2.53  \n",
       "\n",
       "[96 rows x 10 columns]"
      ]
     },
     "execution_count": 19,
     "metadata": {},
     "output_type": "execute_result"
    }
   ],
   "source": [
    "new_df ={}\n",
    "new_df.update({\"City Name\":city})\n",
    "new_df.update({\"Temp\":temp})\n",
    "new_df.update({\"Cloudiness\": cloudiness})\n",
    "new_df.update({\"Country\": country})\n",
    "new_df.update({\"Date\":date})\n",
    "new_df.update({\"Humidity\":humidity})\n",
    "new_df.update({\"Latitud\":lat})\n",
    "new_df.update({\"Longitud\":lng})\n",
    "new_df.update({\"Max Temp\":maxtemp})\n",
    "new_df.update({\"Wind Speed\":windspeed})\n",
    "\n",
    "new_df= pd.DataFrame(new_df)\n",
    "new_df"
   ]
  },
  {
   "cell_type": "markdown",
   "metadata": {},
   "source": [
    "### Plotting the Data\n",
    "* Use proper labeling of the plots using plot titles (including date of analysis) and axes labels.\n",
    "* Save the plotted figures as .pngs."
   ]
  },
  {
   "cell_type": "markdown",
   "metadata": {},
   "source": [
    "#### Latitude vs. Temperature Plot"
   ]
  },
  {
   "cell_type": "code",
   "execution_count": 20,
   "metadata": {},
   "outputs": [
    {
     "data": {
      "image/png": "[encoded data removed]",
      "text/plain": [
       "<Figure size 432x288 with 1 Axes>"
      ]
     },
     "metadata": {
      "needs_background": "light"
     },
     "output_type": "display_data"
    }
   ],
   "source": [
    "# Build a scatter plot for each data type\n",
    "plt.scatter(new_df[\"Latitud\"], new_df[\"Temp\"], marker=\"o\")\n",
    "\n",
    "# Incorporate the other graph properties\n",
    "plt.title(\"City Latitude vs. Temperature (10/14/18)\")\n",
    "plt.ylabel(\"Max Temperature (F)\")\n",
    "plt.xlabel(\"Latitude\")\n",
    "plt.grid(True)\n",
    "\n",
    "# Save the figure\n",
    "plt.savefig(\"../Images/LatitudeVs.TemperaturePlot.png\")\n",
    "\n",
    "# Show plot\n",
    "plt.show()"
   ]
  },
  {
   "cell_type": "markdown",
   "metadata": {},
   "source": [
    "#### Latitude vs. Humidity Plot"
   ]
  },
  {
   "cell_type": "code",
   "execution_count": 21,
   "metadata": {},
   "outputs": [
    {
     "data": {
      "image/png": "[encoded data removed]",
      "text/plain": [
       "<Figure size 432x288 with 1 Axes>"
      ]
     },
     "metadata": {
      "needs_background": "light"
     },
     "output_type": "display_data"
    }
   ],
   "source": [
    "# Build a scatter plot for each data type\n",
    "plt.scatter(new_df[\"Latitud\"], new_df[\"Humidity\"], marker=\"o\")\n",
    "\n",
    "# Incorporate the other graph properties\n",
    "plt.title(\"City Latitude vs. Humidity (10/14/18)\")\n",
    "plt.ylabel(\"Humidity  (%)\")\n",
    "plt.xlabel(\"Latitude\")\n",
    "plt.grid(True)\n",
    "\n",
    "# Save the figure\n",
    "plt.savefig(\"../Images/LatitudeVs.HumidityPlot.png\")\n",
    "\n",
    "# Show plot\n",
    "plt.show()"
   ]
  },
  {
   "cell_type": "markdown",
   "metadata": {},
   "source": [
    "#### Latitude vs. Cloudiness Plot"
   ]
  },
  {
   "cell_type": "code",
   "execution_count": 22,
   "metadata": {},
   "outputs": [
    {
     "data": {
      "image/png": "[encoded data removed]",
      "text/plain": [
       "<Figure size 432x288 with 1 Axes>"
      ]
     },
     "metadata": {
      "needs_background": "light"
     },
     "output_type": "display_data"
    }
   ],
   "source": [
    "# Build a scatter plot for each data type\n",
    "plt.scatter(new_df[\"Latitud\"], new_df[\"Cloudiness\"], marker=\"o\")\n",
    "\n",
    "# Incorporate the other graph properties\n",
    "plt.title(\"City Latitude vs. Cloudiness (10/14/18)\")\n",
    "plt.ylabel(\"Cloudiness  (%)\")\n",
    "plt.xlabel(\"Latitude\")\n",
    "plt.grid(True)\n",
    "\n",
    "# Save the figure\n",
    "plt.savefig(\"../Images/LatitudeVs.CloudinessPlot.png\")\n",
    "\n",
    "# Show plot\n",
    "plt.show()"
   ]
  },
  {
   "cell_type": "markdown",
   "metadata": {},
   "source": [
    "#### Latitude vs. Wind Speed Plot"
   ]
  },
  {
   "cell_type": "code",
   "execution_count": 23,
   "metadata": {},
   "outputs": [
    {
     "data": {
      "image/png": "[encoded data removed]",
      "text/plain": [
       "<Figure size 432x288 with 1 Axes>"
      ]
     },
     "metadata": {
      "needs_background": "light"
     },
     "output_type": "display_data"
    }
   ],
   "source": [
    "# Build a scatter plot for each data type\n",
    "plt.scatter(new_df[\"Latitud\"], new_df[\"Wind Speed\"], marker=\"o\")\n",
    "\n",
    "# Incorporate the other graph properties\n",
    "plt.title(\"City Latitude vs. Wind Speed (10/14/18)\")\n",
    "plt.ylabel(\"Wind Speed  (mph)\")\n",
    "plt.xlabel(\"Latitude\")\n",
    "plt.grid(True)\n",
    "\n",
    "# Save the figure\n",
    "plt.savefig(\"../Images/LatitudeVs.WindSpeedPlot.png\")\n",
    "\n",
    "# Show plot\n",
    "plt.show()"
   ]
  },
  {
   "cell_type": "code",
   "execution_count": null,
   "metadata": {},
   "outputs": [],
   "source": []
  }
 ],
 "metadata": {
  "anaconda-cloud": {},
  "kernel_info": {
   "name": "python3"
  },
  "kernelspec": {
   "display_name": "Python 3",
   "language": "python",
   "name": "python3"
  },
  "language_info": {
   "codemirror_mode": {
    "name": "ipython",
    "version": 3
   },
   "file_extension": ".py",
   "mimetype": "text/x-python",
   "name": "python",
   "nbconvert_exporter": "python",
   "pygments_lexer": "ipython3",
   "version": "3.6.9"
  },
  "nteract": {
   "version": "0.12.3"
  }
 },
 "nbformat": 4,
 "nbformat_minor": 2
}
